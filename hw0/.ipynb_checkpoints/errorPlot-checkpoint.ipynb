{
 "cells": [
  {
   "cell_type": "code",
   "execution_count": null,
   "id": "5c4c20e7-360a-4bbb-905b-14cc82ed2726",
   "metadata": {},
   "outputs": [],
   "source": [
    "# THIS CODE IS MY OWN WORK, IT WAS WRITTEN WITHOUT CONSULTING CODE WRITTEN BY OTHER STUDENTS OR LARGE LANGUAGE MODELS LIKE CHATGPT. Catherine Baker\n",
    "#I have completed this homework without collaborating with any classmates.\n",
    "\n",
    "import numpy as np\n",
    "import matplotlib.pyplot as plot\n",
    "\n",
    "# Define sample sizes and realizations\n",
    "sampSizes = [10, 100, 1000, 10000]\n",
    "numReals = 100\n",
    "\n",
    "# Define mean vector and covariance matrix\n",
    "mu = np.array([1, 1]) # assuming the mu and Sigma from Q6 still stands\n",
    "Sigma = np.array([[1, -0.5], [-0.5, 0.5]])\n",
    "\n",
    "# Define dictionary for error\n",
    "errors = {n: [] for n in sampSizes} # tied with respective sample size\n",
    "\n",
    "# Generate datasets and compute sample covariance\n",
    "for n in sampSizes: # over all values for N\n",
    "    for _ in range(numReals): # 1-100\n",
    "        X = np.random.multivariate_normal(mu, Sigma, n) # create random samples from mu and Sigma distribution with n sample Sizes\n",
    "        sampMu = np.mean(X, axis=0)\n",
    "        sampSigma = np.cov(X, rowvar=False, bias=False)\n",
    "        error = np.linalg.norm(Sigma - sampSigma, 'fro')\n",
    "        errors[n].append(error)\n",
    "\n",
    "# Create a box plot of the errors\n",
    "plot.boxplot([errors[n] for n in sampSizes], labels=sampSizes)\n",
    "plot.title('Error in Estimating Covariance Matrix by Sample Size')\n",
    "plot.xlabel('Sample Size')\n",
    "plot.ylabel('Frobenius Norm of the Error')\n",
    "plot.grid(True)\n",
    "plot.show()\n"
   ]
  }
 ],
 "metadata": {
  "kernelspec": {
   "display_name": "Python 3 (ipykernel)",
   "language": "python",
   "name": "python3"
  },
  "language_info": {
   "codemirror_mode": {
    "name": "ipython",
    "version": 3
   },
   "file_extension": ".py",
   "mimetype": "text/x-python",
   "name": "python",
   "nbconvert_exporter": "python",
   "pygments_lexer": "ipython3",
   "version": "3.11.4"
  }
 },
 "nbformat": 4,
 "nbformat_minor": 5
}
